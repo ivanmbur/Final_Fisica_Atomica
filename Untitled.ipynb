{
 "cells": [
  {
   "cell_type": "code",
   "execution_count": 1,
   "metadata": {},
   "outputs": [
    {
     "name": "stdout",
     "output_type": "stream",
     "text": [
      "Populating the interactive namespace from numpy and matplotlib\n"
     ]
    }
   ],
   "source": [
    "%pylab inline"
   ]
  },
  {
   "cell_type": "code",
   "execution_count": 13,
   "metadata": {},
   "outputs": [],
   "source": [
    "u_max = 40.0\n",
    "Z = 3.0\n",
    "l_1 = 0.0\n",
    "l_2 = 0.0\n",
    "l_3 = 0.0\n",
    "n_steps = 10000\n",
    "u = array([10.0**b for b in linspace(-4.0,log10(x_max),n_steps)])\n",
    "V_nucleo = -2.0/u\n",
    "V_nucleo_apantallado = V_nucleo/Z"
   ]
  },
  {
   "cell_type": "code",
   "execution_count": 37,
   "metadata": {},
   "outputs": [
    {
     "name": "stdout",
     "output_type": "stream",
     "text": [
      "0.00129540936897\n"
     ]
    },
    {
     "data": {
      "image/png": "[encoded data removed]",
      "text/plain": [
       "<matplotlib.figure.Figure at 0x7f5769bdd978>"
      ]
     },
     "metadata": {},
     "output_type": "display_data"
    }
   ],
   "source": [
    "V_1 = V_nucleo\n",
    "R_1 = zeros(n_steps)\n",
    "DR_1 = zeros(n_steps)\n",
    "DDR_1 = zeros(n_steps)\n",
    "epsilon_1 = -1.0\n",
    "\n",
    "R_1[0] = 1\n",
    "DR_1[0] = -1\n",
    "DDR_1[0] = -2.0*DR_1[0]/u[0]-(epsilon_1 + 2/u[0] - l_1*(l_1+1)/(u[0]*u[0]))*R_1[0]\n",
    "\n",
    "for i in range(1, n_steps):\n",
    "    DR_1[i] = DR_1[i-1] + DDR_1[i-1]*(u[i] - u[i-1])\n",
    "    R_1[i] = R_1[i-1] + DR_1[i-1]*(u[i] - u[i-1])\n",
    "    DDR_1[i] = (-2.0*DR_1[i]/u[i])-(epsilon_1 + 2/u[i] - l_1*(l_1+1)/(u[i]*u[i]))*R_1[i]\n",
    "\n",
    "plot(u, R_1)\n",
    "print(R_1[-1])"
   ]
  },
  {
   "cell_type": "code",
   "execution_count": 38,
   "metadata": {},
   "outputs": [
    {
     "data": {
      "text/plain": [
       "[<matplotlib.lines.Line2D at 0x7f5769adff60>]"
      ]
     },
     "execution_count": 38,
     "metadata": {},
     "output_type": "execute_result"
    },
    {
     "data": {
      "image/png": "[encoded data removed]",
      "text/plain": [
       "<matplotlib.figure.Figure at 0x7f5769e2f208>"
      ]
     },
     "metadata": {},
     "output_type": "display_data"
    }
   ],
   "source": [
    "plot(u[:5], R_1[:5])"
   ]
  },
  {
   "cell_type": "code",
   "execution_count": null,
   "metadata": {
    "collapsed": true
   },
   "outputs": [],
   "source": [
    "pot_1 = zeros(n_steps)\n",
    "pot_1[-1] = 0\n",
    "for i in range(2,n_steps+1):\n",
    "    pot_1[-i] = pot_1[-(i-1)] + "
   ]
  }
 ],
 "metadata": {
  "kernelspec": {
   "display_name": "Python 2",
   "language": "python",
   "name": "python2"
  },
  "language_info": {
   "codemirror_mode": {
    "name": "ipython",
    "version": 3
   },
   "file_extension": ".py",
   "mimetype": "text/x-python",
   "name": "python",
   "nbconvert_exporter": "python",
   "pygments_lexer": "ipython3",
   "version": "3.5.2"
  }
 },
 "nbformat": 4,
 "nbformat_minor": 2
}
